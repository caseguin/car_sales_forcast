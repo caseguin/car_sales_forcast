{
 "cells": [
  {
   "cell_type": "markdown",
   "metadata": {},
   "source": [
    "***\n",
    "# Main\n",
    "\n",
    "***"
   ]
  },
  {
   "cell_type": "markdown",
   "metadata": {},
   "source": [
    "### Organize the repertory\n",
    "***"
   ]
  },
  {
   "cell_type": "code",
   "execution_count": 1,
   "metadata": {},
   "outputs": [
    {
     "name": "stdout",
     "output_type": "stream",
     "text": [
      "Le dossier « Dataframe » a été créé\n",
      "Le dossier « Output » a été créé\n",
      "Le dossier « Data » a été créé\n"
     ]
    }
   ],
   "source": [
    "# Create folders and getting path\n",
    "import os\n",
    "cwd = os.getcwd()\n",
    "\n",
    "# Loop to create folders\n",
    "folder_names = ['Dataframe', 'Output', 'Data']\n",
    "\n",
    "folders = {}\n",
    "for folder_name in folder_names:\n",
    "    folders[folder_name] = os.path.join(cwd, folder_name)\n",
    "\n",
    "    if not os.path.exists(os.path.join(cwd, folder_name)):\n",
    "        os.makedirs(os.path.join(cwd, folder_name))\n",
    "        print(f'Le dossier « {folder_name} » a été créé')\n",
    "\n",
    "    else:\n",
    "        print(f'Le dossier « {folder_name} » est existant')"
   ]
  },
  {
   "cell_type": "code",
   "execution_count": 2,
   "metadata": {},
   "outputs": [
    {
     "name": "stdout",
     "output_type": "stream",
     "text": [
      "/home/charles/Documents/GitHub/car_sales_predictions/\n",
      "/home/charles/Documents/GitHub/car_sales_predictions/Data/\n",
      "/home/charles/Documents/GitHub/car_sales_predictions/Dataframe/\n",
      "/home/charles/Documents/GitHub/car_sales_predictions/Output/\n"
     ]
    }
   ],
   "source": [
    "# Création des variables de path\n",
    "\n",
    "# Déterminer si os est win ou linux pour définir les path\n",
    "if os.name == 'nt':\n",
    "    slash = '\\\\'\n",
    "elif os.name == 'posix':\n",
    "    slash = '/'\n",
    "\n",
    "path_prog =     cwd + slash\n",
    "path_data =     folders['Data'] + slash\n",
    "path_df =       folders['Dataframe'] + slash\n",
    "path_output =   folders['Output'] + slash\n",
    "\n",
    "# Mettre \\\\ pour éviter les erreurs\n",
    "path_dict = [path_prog, path_data, path_df, path_output]\n",
    "for path in path_dict:\n",
    "    path = path.replace('\\\\','\\\\\\\\')\n",
    "\n",
    "\n",
    "# Détermination de l'année\n",
    "print(path_prog)\n",
    "print(path_data)\n",
    "print(path_df)\n",
    "print(path_output)"
   ]
  }
 ],
 "metadata": {
  "kernelspec": {
   "display_name": "Python 3",
   "language": "python",
   "name": "python3"
  },
  "language_info": {
   "codemirror_mode": {
    "name": "ipython",
    "version": 3
   },
   "file_extension": ".py",
   "mimetype": "text/x-python",
   "name": "python",
   "nbconvert_exporter": "python",
   "pygments_lexer": "ipython3",
   "version": "3.10.7"
  },
  "orig_nbformat": 4
 },
 "nbformat": 4,
 "nbformat_minor": 2
}
