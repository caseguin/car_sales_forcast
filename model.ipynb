{
 "cells": [
  {
   "cell_type": "markdown",
   "metadata": {},
   "source": [
    "***\n",
    "# Building prediction model\n",
    "***"
   ]
  },
  {
   "cell_type": "markdown",
   "metadata": {},
   "source": [
    "1. **Train data on sales of 2017-2018**\n",
    "2. **Predict sales 2019-2021 and compare with real values**\n",
    "3. **Add the subsides and compare the sales**\n",
    "4. **Evaluate the impact of RV**\n",
    "<br>\n",
    "\n",
    "***"
   ]
  },
  {
   "cell_type": "code",
   "execution_count": 1,
   "metadata": {},
   "outputs": [
    {
     "name": "stdout",
     "output_type": "stream",
     "text": [
      "Le dossier « Dataframe » est existant\n",
      "Le dossier « Output » est existant\n",
      "Le dossier « Data » est existant\n",
      "\n",
      "c:\\Users\\Charles_tour\\Documents\\GitHub\\car_sales_forcast\\\n",
      "c:\\Users\\Charles_tour\\Documents\\GitHub\\car_sales_forcast\\Data\\\n",
      "c:\\Users\\Charles_tour\\Documents\\GitHub\\car_sales_forcast\\Dataframe\\\n",
      "c:\\Users\\Charles_tour\\Documents\\GitHub\\car_sales_forcast\\Output\\\n"
     ]
    }
   ],
   "source": [
    "# Create folders and getting path\n",
    "import os\n",
    "cwd = os.getcwd()\n",
    "\n",
    "# Loop to create folders\n",
    "folder_names = ['Dataframe', 'Output', 'Data']\n",
    "\n",
    "folders = {}\n",
    "for folder_name in folder_names:\n",
    "    folders[folder_name] = os.path.join(cwd, folder_name)\n",
    "\n",
    "    if not os.path.exists(os.path.join(cwd, folder_name)):\n",
    "        os.makedirs(os.path.join(cwd, folder_name))\n",
    "        print(f'Le dossier « {folder_name} » a été créé')\n",
    "\n",
    "    else:\n",
    "        print(f'Le dossier « {folder_name} » est existant')\n",
    "\n",
    "\n",
    "# Création des variables de path\n",
    "\n",
    "# Déterminer si os est win ou linux pour définir les path\n",
    "if os.name == 'nt':\n",
    "    slash = '\\\\'\n",
    "elif os.name == 'posix':\n",
    "    slash = '/'\n",
    "\n",
    "path_prog =     cwd + slash\n",
    "path_data =     folders['Data'] + slash\n",
    "path_df =       folders['Dataframe'] + slash\n",
    "path_output =   folders['Output'] + slash\n",
    "\n",
    "# Mettre \\\\ pour éviter les erreurs\n",
    "path_dict = [path_prog, path_data, path_df, path_output]\n",
    "for path in path_dict:\n",
    "    path = path.replace('\\\\','\\\\\\\\')\n",
    "\n",
    "\n",
    "# Détermination de l'année\n",
    "print()\n",
    "print(path_prog)\n",
    "print(path_data)\n",
    "print(path_df)\n",
    "print(path_output)"
   ]
  },
  {
   "cell_type": "markdown",
   "metadata": {},
   "source": [
    "***\n",
    "<b>Ce qu'on veut prédire</b> : TYP_CARBU (VÉ)\n",
    "\n",
    "<b>Variables explicatives</b> : MASSE_NETTE, COUL_ORIG, TYP_DOSS_PERS, PHYS_SEX, PHYS_AGE, REG_ADM, MRC\n",
    "\n",
    "***\n",
    "Étapes :\n",
    "1. feature enginering (encode)\n",
    "2. train on 2017 and 2018\n",
    "3. forcast 2019 to 2021\n",
    "3. compare with real results"
   ]
  },
  {
   "cell_type": "code",
   "execution_count": 4,
   "metadata": {},
   "outputs": [],
   "source": [
    "import pandas as pd\n",
    "merge_data = pd.read_hdf(path_df + 'vente_data_2017.h5')"
   ]
  },
  {
   "cell_type": "code",
   "execution_count": 10,
   "metadata": {},
   "outputs": [
    {
     "data": {
      "text/html": [
       "<div>\n",
       "<style scoped>\n",
       "    .dataframe tbody tr th:only-of-type {\n",
       "        vertical-align: middle;\n",
       "    }\n",
       "\n",
       "    .dataframe tbody tr th {\n",
       "        vertical-align: top;\n",
       "    }\n",
       "\n",
       "    .dataframe thead th {\n",
       "        text-align: right;\n",
       "    }\n",
       "</style>\n",
       "<table border=\"1\" class=\"dataframe\">\n",
       "  <thead>\n",
       "    <tr style=\"text-align: right;\">\n",
       "      <th></th>\n",
       "      <th>AN</th>\n",
       "      <th>TYP_CARBU</th>\n",
       "      <th>MASSE_NETTE</th>\n",
       "      <th>COUL_ORIG</th>\n",
       "      <th>TYP_DOSS_PERS</th>\n",
       "      <th>PHYS_SEX</th>\n",
       "      <th>PHYS_AGE</th>\n",
       "      <th>REG_ADM</th>\n",
       "      <th>MRC</th>\n",
       "    </tr>\n",
       "  </thead>\n",
       "  <tbody>\n",
       "    <tr>\n",
       "      <th>0</th>\n",
       "      <td>2017</td>\n",
       "      <td>E</td>\n",
       "      <td>1662.0</td>\n",
       "      <td>ROU</td>\n",
       "      <td>P</td>\n",
       "      <td>F</td>\n",
       "      <td>76.0</td>\n",
       "      <td>Centre-du-Québec (17)</td>\n",
       "      <td>Drummond (49 )</td>\n",
       "    </tr>\n",
       "    <tr>\n",
       "      <th>1</th>\n",
       "      <td>2017</td>\n",
       "      <td>W</td>\n",
       "      <td>1578.0</td>\n",
       "      <td>NOI</td>\n",
       "      <td>P</td>\n",
       "      <td>M</td>\n",
       "      <td>33.0</td>\n",
       "      <td>Saguenay–Lac-Saint-Jean (02)</td>\n",
       "      <td>Saguenay (941)</td>\n",
       "    </tr>\n",
       "    <tr>\n",
       "      <th>2</th>\n",
       "      <td>2017</td>\n",
       "      <td>E</td>\n",
       "      <td>1113.0</td>\n",
       "      <td>GRI</td>\n",
       "      <td>P</td>\n",
       "      <td>F</td>\n",
       "      <td>87.0</td>\n",
       "      <td>Laurentides (15)</td>\n",
       "      <td>Les Laurentides (78 )</td>\n",
       "    </tr>\n",
       "  </tbody>\n",
       "</table>\n",
       "</div>"
      ],
      "text/plain": [
       "     AN TYP_CARBU  MASSE_NETTE COUL_ORIG TYP_DOSS_PERS PHYS_SEX  PHYS_AGE  \\\n",
       "0  2017         E       1662.0       ROU             P        F      76.0   \n",
       "1  2017         W       1578.0       NOI             P        M      33.0   \n",
       "2  2017         E       1113.0       GRI             P        F      87.0   \n",
       "\n",
       "                        REG_ADM                    MRC  \n",
       "0         Centre-du-Québec (17)         Drummond (49 )  \n",
       "1  Saguenay–Lac-Saint-Jean (02)         Saguenay (941)  \n",
       "2              Laurentides (15)  Les Laurentides (78 )  "
      ]
     },
     "execution_count": 10,
     "metadata": {},
     "output_type": "execute_result"
    }
   ],
   "source": [
    "cols = ['AN', 'TYP_CARBU', 'MASSE_NETTE', 'COUL_ORIG', 'TYP_DOSS_PERS', 'PHYS_SEX', 'PHYS_AGE' ,'REG_ADM', 'MRC']\n",
    "df_model = merge_data[cols]\n",
    "df_model.head(3)"
   ]
  },
  {
   "cell_type": "code",
   "execution_count": 8,
   "metadata": {},
   "outputs": [
    {
     "data": {
      "text/plain": [
       "array(['ROU', 'NOI', 'GRI', 'BLA', 'BLE', 'BRU', 'ARG', 'MAR', 'BRO',\n",
       "       'VER', nan, 'BEI', 'ORA', 'JAU', 'VIO', 'CHA', 'ROS', 'KAK', 'MAU',\n",
       "       'MTL', 'CUI', 'OR'], dtype=object)"
      ]
     },
     "execution_count": 8,
     "metadata": {},
     "output_type": "execute_result"
    }
   ],
   "source": [
    "merge_data['COUL_ORIG'].unique()"
   ]
  },
  {
   "cell_type": "code",
   "execution_count": null,
   "metadata": {},
   "outputs": [],
   "source": [
    "from sklearn import neighbors, datasets, preprocessing\n",
    "from sklearn.model_selection import train_test_split\n",
    "from sklearn.metrics import accuracy_score"
   ]
  }
 ],
 "metadata": {
  "kernelspec": {
   "display_name": "Python 3",
   "language": "python",
   "name": "python3"
  },
  "language_info": {
   "codemirror_mode": {
    "name": "ipython",
    "version": 3
   },
   "file_extension": ".py",
   "mimetype": "text/x-python",
   "name": "python",
   "nbconvert_exporter": "python",
   "pygments_lexer": "ipython3",
   "version": "3.10.11"
  },
  "orig_nbformat": 4
 },
 "nbformat": 4,
 "nbformat_minor": 2
}
